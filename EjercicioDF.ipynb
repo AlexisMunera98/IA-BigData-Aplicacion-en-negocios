{
  "nbformat": 4,
  "nbformat_minor": 0,
  "metadata": {
    "colab": {
      "name": "EjercicioDF.ipynb",
      "provenance": [],
      "include_colab_link": true
    },
    "kernelspec": {
      "display_name": "Python 3",
      "language": "python",
      "name": "python3"
    },
    "language_info": {
      "codemirror_mode": {
        "name": "ipython",
        "version": 3
      },
      "file_extension": ".py",
      "mimetype": "text/x-python",
      "name": "python",
      "nbconvert_exporter": "python",
      "pygments_lexer": "ipython3",
      "version": "3.7.5"
    }
  },
  "cells": [
    {
      "cell_type": "markdown",
      "metadata": {
        "id": "view-in-github",
        "colab_type": "text"
      },
      "source": [
        "<a href=\"https://colab.research.google.com/github/AlexisMunera98/IA-BigData-Aplicacion-en-negocios/blob/master/EjercicioDF.ipynb\" target=\"_parent\"><img src=\"https://colab.research.google.com/assets/colab-badge.svg\" alt=\"Open In Colab\"/></a>"
      ]
    },
    {
      "cell_type": "code",
      "metadata": {
        "colab_type": "code",
        "id": "O9SGfyTXn910",
        "colab": {}
      },
      "source": [
        "# -*- coding: utf-8 -*-\n",
        "import pandas as pd\n",
        "import numpy as np\n",
        "'''\n",
        "Origen de los Datos:\n",
        "- La población, el pibpc (PIB Per Cápita), las medallas de oro plata y bronce extraídos de Kaggle\n",
        "- Los datos de deportistas (tamaño de la delegación) y el pibpc de Venezuela extraídos de Wikipedia\n",
        "'''\n",
        "# Diccionario\n",
        "data = {\n",
        "'pais':['Argentina','Bolivia','Brasil','Chile','Colombia','Ecuador','Guyana','Paraguay','Peru','Surinam','Uruguay','Venezuela'],\n",
        "'poblacion':[43416755,10724705,207847528,17948141,48228704,16144363,767085,6639123,31376670,542975,3431555,31108083],\n",
        "'pibpc':[13432,3078,8539,13416,6056,6205,4127,4081,6027,9485,15574,11051],\n",
        "'deportistas':[215,12,465,42,148,38,6,11,29,3,17,86],\n",
        "'oro':[3,0,7,0,3,0,0,0,0,0,0,0],\n",
        "'plata':[1,0,6,0,2,0,0,0,0,0,0,1],\n",
        "'bronce':[0,0,6,0,3,0,0,0,0,0,0,2]}\n",
        "# DataFrame\n",
        "df = pd.DataFrame(data)"
      ],
      "execution_count": 0,
      "outputs": []
    },
    {
      "cell_type": "code",
      "metadata": {
        "colab_type": "code",
        "id": "Y7hAHuQVp1Q0",
        "outputId": "83b49912-ea78-47f2-9700-f189e30dde19",
        "colab": {
          "base_uri": "https://localhost:8080/",
          "height": 426
        }
      },
      "source": [
        "df"
      ],
      "execution_count": 2,
      "outputs": [
        {
          "output_type": "execute_result",
          "data": {
            "text/html": [
              "<div>\n",
              "<style scoped>\n",
              "    .dataframe tbody tr th:only-of-type {\n",
              "        vertical-align: middle;\n",
              "    }\n",
              "\n",
              "    .dataframe tbody tr th {\n",
              "        vertical-align: top;\n",
              "    }\n",
              "\n",
              "    .dataframe thead th {\n",
              "        text-align: right;\n",
              "    }\n",
              "</style>\n",
              "<table border=\"1\" class=\"dataframe\">\n",
              "  <thead>\n",
              "    <tr style=\"text-align: right;\">\n",
              "      <th></th>\n",
              "      <th>pais</th>\n",
              "      <th>poblacion</th>\n",
              "      <th>pibpc</th>\n",
              "      <th>deportistas</th>\n",
              "      <th>oro</th>\n",
              "      <th>plata</th>\n",
              "      <th>bronce</th>\n",
              "    </tr>\n",
              "  </thead>\n",
              "  <tbody>\n",
              "    <tr>\n",
              "      <th>0</th>\n",
              "      <td>Argentina</td>\n",
              "      <td>43416755</td>\n",
              "      <td>13432</td>\n",
              "      <td>215</td>\n",
              "      <td>3</td>\n",
              "      <td>1</td>\n",
              "      <td>0</td>\n",
              "    </tr>\n",
              "    <tr>\n",
              "      <th>1</th>\n",
              "      <td>Bolivia</td>\n",
              "      <td>10724705</td>\n",
              "      <td>3078</td>\n",
              "      <td>12</td>\n",
              "      <td>0</td>\n",
              "      <td>0</td>\n",
              "      <td>0</td>\n",
              "    </tr>\n",
              "    <tr>\n",
              "      <th>2</th>\n",
              "      <td>Brasil</td>\n",
              "      <td>207847528</td>\n",
              "      <td>8539</td>\n",
              "      <td>465</td>\n",
              "      <td>7</td>\n",
              "      <td>6</td>\n",
              "      <td>6</td>\n",
              "    </tr>\n",
              "    <tr>\n",
              "      <th>3</th>\n",
              "      <td>Chile</td>\n",
              "      <td>17948141</td>\n",
              "      <td>13416</td>\n",
              "      <td>42</td>\n",
              "      <td>0</td>\n",
              "      <td>0</td>\n",
              "      <td>0</td>\n",
              "    </tr>\n",
              "    <tr>\n",
              "      <th>4</th>\n",
              "      <td>Colombia</td>\n",
              "      <td>48228704</td>\n",
              "      <td>6056</td>\n",
              "      <td>148</td>\n",
              "      <td>3</td>\n",
              "      <td>2</td>\n",
              "      <td>3</td>\n",
              "    </tr>\n",
              "    <tr>\n",
              "      <th>5</th>\n",
              "      <td>Ecuador</td>\n",
              "      <td>16144363</td>\n",
              "      <td>6205</td>\n",
              "      <td>38</td>\n",
              "      <td>0</td>\n",
              "      <td>0</td>\n",
              "      <td>0</td>\n",
              "    </tr>\n",
              "    <tr>\n",
              "      <th>6</th>\n",
              "      <td>Guyana</td>\n",
              "      <td>767085</td>\n",
              "      <td>4127</td>\n",
              "      <td>6</td>\n",
              "      <td>0</td>\n",
              "      <td>0</td>\n",
              "      <td>0</td>\n",
              "    </tr>\n",
              "    <tr>\n",
              "      <th>7</th>\n",
              "      <td>Paraguay</td>\n",
              "      <td>6639123</td>\n",
              "      <td>4081</td>\n",
              "      <td>11</td>\n",
              "      <td>0</td>\n",
              "      <td>0</td>\n",
              "      <td>0</td>\n",
              "    </tr>\n",
              "    <tr>\n",
              "      <th>8</th>\n",
              "      <td>Peru</td>\n",
              "      <td>31376670</td>\n",
              "      <td>6027</td>\n",
              "      <td>29</td>\n",
              "      <td>0</td>\n",
              "      <td>0</td>\n",
              "      <td>0</td>\n",
              "    </tr>\n",
              "    <tr>\n",
              "      <th>9</th>\n",
              "      <td>Surinam</td>\n",
              "      <td>542975</td>\n",
              "      <td>9485</td>\n",
              "      <td>3</td>\n",
              "      <td>0</td>\n",
              "      <td>0</td>\n",
              "      <td>0</td>\n",
              "    </tr>\n",
              "    <tr>\n",
              "      <th>10</th>\n",
              "      <td>Uruguay</td>\n",
              "      <td>3431555</td>\n",
              "      <td>15574</td>\n",
              "      <td>17</td>\n",
              "      <td>0</td>\n",
              "      <td>0</td>\n",
              "      <td>0</td>\n",
              "    </tr>\n",
              "    <tr>\n",
              "      <th>11</th>\n",
              "      <td>Venezuela</td>\n",
              "      <td>31108083</td>\n",
              "      <td>11051</td>\n",
              "      <td>86</td>\n",
              "      <td>0</td>\n",
              "      <td>1</td>\n",
              "      <td>2</td>\n",
              "    </tr>\n",
              "  </tbody>\n",
              "</table>\n",
              "</div>"
            ],
            "text/plain": [
              "         pais  poblacion  pibpc  deportistas  oro  plata  bronce\n",
              "0   Argentina   43416755  13432          215    3      1       0\n",
              "1     Bolivia   10724705   3078           12    0      0       0\n",
              "2      Brasil  207847528   8539          465    7      6       6\n",
              "3       Chile   17948141  13416           42    0      0       0\n",
              "4    Colombia   48228704   6056          148    3      2       3\n",
              "5     Ecuador   16144363   6205           38    0      0       0\n",
              "6      Guyana     767085   4127            6    0      0       0\n",
              "7    Paraguay    6639123   4081           11    0      0       0\n",
              "8        Peru   31376670   6027           29    0      0       0\n",
              "9     Surinam     542975   9485            3    0      0       0\n",
              "10    Uruguay    3431555  15574           17    0      0       0\n",
              "11  Venezuela   31108083  11051           86    0      1       2"
            ]
          },
          "metadata": {
            "tags": []
          },
          "execution_count": 2
        }
      ]
    },
    {
      "cell_type": "code",
      "metadata": {
        "id": "VnqXEMrwvNJa",
        "colab_type": "code",
        "colab": {
          "base_uri": "https://localhost:8080/",
          "height": 54
        },
        "outputId": "18ae3bb4-9efe-4422-801b-223f2ed34e21"
      },
      "source": [
        "# Colombia\n",
        "\n",
        "col = df[df.pais == 'Colombia']\n",
        "print(col)"
      ],
      "execution_count": 3,
      "outputs": [
        {
          "output_type": "stream",
          "text": [
            "       pais  poblacion  pibpc  deportistas  oro  plata  bronce\n",
            "4  Colombia   48228704   6056          148    3      2       3\n"
          ],
          "name": "stdout"
        }
      ]
    },
    {
      "cell_type": "code",
      "metadata": {
        "id": "o25uX4Y3vNJp",
        "colab_type": "code",
        "colab": {
          "base_uri": "https://localhost:8080/",
          "height": 54
        },
        "outputId": "1d920de1-f6da-4b7c-b630-b971f5481ec9"
      },
      "source": [
        "print(df[df.pais == 'Colombia']['oro'])"
      ],
      "execution_count": 4,
      "outputs": [
        {
          "output_type": "stream",
          "text": [
            "4    3\n",
            "Name: oro, dtype: int64\n"
          ],
          "name": "stdout"
        }
      ]
    },
    {
      "cell_type": "code",
      "metadata": {
        "id": "9ra0HrInvNJy",
        "colab_type": "code",
        "colab": {
          "base_uri": "https://localhost:8080/",
          "height": 426
        },
        "outputId": "56cf31df-7198-4e52-b472-28f2cabcf9ce"
      },
      "source": [
        "tg = df[['pais', 'oro', 'plata', 'bronce']].sort_values(['oro', 'plata', 'bronce'], ascending=False)\n",
        "tg"
      ],
      "execution_count": 7,
      "outputs": [
        {
          "output_type": "execute_result",
          "data": {
            "text/html": [
              "<div>\n",
              "<style scoped>\n",
              "    .dataframe tbody tr th:only-of-type {\n",
              "        vertical-align: middle;\n",
              "    }\n",
              "\n",
              "    .dataframe tbody tr th {\n",
              "        vertical-align: top;\n",
              "    }\n",
              "\n",
              "    .dataframe thead th {\n",
              "        text-align: right;\n",
              "    }\n",
              "</style>\n",
              "<table border=\"1\" class=\"dataframe\">\n",
              "  <thead>\n",
              "    <tr style=\"text-align: right;\">\n",
              "      <th></th>\n",
              "      <th>pais</th>\n",
              "      <th>oro</th>\n",
              "      <th>plata</th>\n",
              "      <th>bronce</th>\n",
              "    </tr>\n",
              "  </thead>\n",
              "  <tbody>\n",
              "    <tr>\n",
              "      <th>2</th>\n",
              "      <td>Brasil</td>\n",
              "      <td>7</td>\n",
              "      <td>6</td>\n",
              "      <td>6</td>\n",
              "    </tr>\n",
              "    <tr>\n",
              "      <th>4</th>\n",
              "      <td>Colombia</td>\n",
              "      <td>3</td>\n",
              "      <td>2</td>\n",
              "      <td>3</td>\n",
              "    </tr>\n",
              "    <tr>\n",
              "      <th>0</th>\n",
              "      <td>Argentina</td>\n",
              "      <td>3</td>\n",
              "      <td>1</td>\n",
              "      <td>0</td>\n",
              "    </tr>\n",
              "    <tr>\n",
              "      <th>11</th>\n",
              "      <td>Venezuela</td>\n",
              "      <td>0</td>\n",
              "      <td>1</td>\n",
              "      <td>2</td>\n",
              "    </tr>\n",
              "    <tr>\n",
              "      <th>1</th>\n",
              "      <td>Bolivia</td>\n",
              "      <td>0</td>\n",
              "      <td>0</td>\n",
              "      <td>0</td>\n",
              "    </tr>\n",
              "    <tr>\n",
              "      <th>3</th>\n",
              "      <td>Chile</td>\n",
              "      <td>0</td>\n",
              "      <td>0</td>\n",
              "      <td>0</td>\n",
              "    </tr>\n",
              "    <tr>\n",
              "      <th>5</th>\n",
              "      <td>Ecuador</td>\n",
              "      <td>0</td>\n",
              "      <td>0</td>\n",
              "      <td>0</td>\n",
              "    </tr>\n",
              "    <tr>\n",
              "      <th>6</th>\n",
              "      <td>Guyana</td>\n",
              "      <td>0</td>\n",
              "      <td>0</td>\n",
              "      <td>0</td>\n",
              "    </tr>\n",
              "    <tr>\n",
              "      <th>7</th>\n",
              "      <td>Paraguay</td>\n",
              "      <td>0</td>\n",
              "      <td>0</td>\n",
              "      <td>0</td>\n",
              "    </tr>\n",
              "    <tr>\n",
              "      <th>8</th>\n",
              "      <td>Peru</td>\n",
              "      <td>0</td>\n",
              "      <td>0</td>\n",
              "      <td>0</td>\n",
              "    </tr>\n",
              "    <tr>\n",
              "      <th>9</th>\n",
              "      <td>Surinam</td>\n",
              "      <td>0</td>\n",
              "      <td>0</td>\n",
              "      <td>0</td>\n",
              "    </tr>\n",
              "    <tr>\n",
              "      <th>10</th>\n",
              "      <td>Uruguay</td>\n",
              "      <td>0</td>\n",
              "      <td>0</td>\n",
              "      <td>0</td>\n",
              "    </tr>\n",
              "  </tbody>\n",
              "</table>\n",
              "</div>"
            ],
            "text/plain": [
              "         pais  oro  plata  bronce\n",
              "2      Brasil    7      6       6\n",
              "4    Colombia    3      2       3\n",
              "0   Argentina    3      1       0\n",
              "11  Venezuela    0      1       2\n",
              "1     Bolivia    0      0       0\n",
              "3       Chile    0      0       0\n",
              "5     Ecuador    0      0       0\n",
              "6      Guyana    0      0       0\n",
              "7    Paraguay    0      0       0\n",
              "8        Peru    0      0       0\n",
              "9     Surinam    0      0       0\n",
              "10    Uruguay    0      0       0"
            ]
          },
          "metadata": {
            "tags": []
          },
          "execution_count": 7
        }
      ]
    }
  ]
}